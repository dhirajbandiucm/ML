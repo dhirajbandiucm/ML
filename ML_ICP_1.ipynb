{
 "cells": [
  {
   "cell_type": "code",
   "id": "initial_id",
   "metadata": {
    "collapsed": true,
    "ExecuteTime": {
     "end_time": "2024-05-20T18:50:35.722753Z",
     "start_time": "2024-05-20T18:50:35.712098Z"
    }
   },
   "source": [
    "#Machine Learning (ICP # 1)\n",
    "\n",
    "#Question 1\n",
    "\n",
    "ages = [19, 22, 19, 24, 20, 25, 26, 24, 25, 24]\n",
    "\n",
    "#Sort the list\n",
    "ages.sort()\n",
    "print(\"Sorted ages:\", ages)\n",
    "\n",
    "#find the min and max age \n",
    "min_age = ages[0]\n",
    "max_age = ages[-1]\n",
    "print(\"Min age:\", min_age)\n",
    "print(\"Max age:\", max_age)\n",
    "\n",
    "#Adding the min age and the max age again to the list\n",
    "ages.append(min_age)\n",
    "ages.append(max_age)\n",
    "print(\"new ages after adding min and max again:\", ages)\n",
    "\n",
    "#median age\n",
    "ages.sort()\n",
    "n = len(ages)\n",
    "if n % 2 == 0:\n",
    "    median_age = (ages[n // 2 - 1] + ages[n // 2]) / 2\n",
    "else:\n",
    "    median_age = ages[n // 2]\n",
    "print(\"Median age:\", median_age)\n",
    "\n",
    "#average age\n",
    "average_age = sum(ages) / n\n",
    "print(\"Average age:\", average_age)\n",
    "\n",
    "#range\n",
    "range_of_ages = max_age - min_age\n",
    "print(\"Range of ages:\", range_of_ages)\n"
   ],
   "outputs": [
    {
     "name": "stdout",
     "output_type": "stream",
     "text": [
      "Sorted ages: [19, 19, 20, 22, 24, 24, 24, 25, 25, 26]\n",
      "Min age: 19\n",
      "Max age: 26\n",
      "new ages after adding min and max again: [19, 19, 20, 22, 24, 24, 24, 25, 25, 26, 19, 26]\n",
      "Median age: 24.0\n",
      "Average age: 22.75\n",
      "Range of ages: 7\n"
     ]
    }
   ],
   "execution_count": 1
  },
  {
   "metadata": {
    "ExecuteTime": {
     "end_time": "2024-05-20T22:35:16.659322Z",
     "start_time": "2024-05-20T22:35:16.652348Z"
    }
   },
   "cell_type": "code",
   "source": [
    "#Question 2\n",
    "\n",
    "#creating an empty dictionary called dog\n",
    "dog = {}\n",
    "\n",
    "#Adding name, color, breed, legs, age to the dog dictionary with arbitrary values\n",
    "dog['name'] = 'kethu'\n",
    "dog['color'] = 'brown'\n",
    "dog['breed'] = 'chihuahua'\n",
    "dog['legs'] = 4\n",
    "dog['age'] = 21\n",
    "\n",
    "print(dog)\n",
    "\n",
    "'''Creating a student dictionary and adding first_name, last_name, gender, age, marital status, \n",
    "skills, country, city and address as keys for the dictionary'''\n",
    "\n",
    "student = {'firstname': 'dhiraj', 'lastname': 'bandi', 'gender': 'male', 'age': '24', 'marital_status': 'single', 'skills': ['cooking'], 'country': 'United States', 'city': 'Overland Park', 'address': '132nd street'}\n",
    "print(student)\n",
    "\n",
    "\n",
    "#getting length of student dictionary\n",
    "print(len(student))\n",
    "\n",
    "#Getting the value of skills and checking the data type\n",
    "skills_value = student['skills']\n",
    "print(skills_value)\n",
    "print(type(skills_value))\n",
    "\n",
    "#modifying the skills values by adding two skills\n",
    "student['skills'].append('Java')\n",
    "student['skills'].append('Python')\n",
    "print(student['skills'])\n",
    "\n",
    "#dictionary keys as a list\n",
    "student_keys = student.keys()\n",
    "print(student_keys)\n",
    "\n",
    "#dictionary values as a list\n",
    "student_values = student.values()\n",
    "print(student_values)\n",
    "\n"
   ],
   "id": "d5d27c7b2779fb1f",
   "outputs": [
    {
     "name": "stdout",
     "output_type": "stream",
     "text": [
      "{'name': 'kethu', 'color': 'brown', 'breed': 'chihuahua', 'legs': 4, 'age': 21}\n",
      "{'firstname': 'dhiraj', 'lastname': 'bandi', 'gender': 'male', 'age': '24', 'marital_status': 'single', 'skills': ['cooking'], 'country': 'United States', 'city': 'Overland Park', 'address': '132nd street'}\n",
      "9\n",
      "['cooking']\n",
      "<class 'list'>\n",
      "['cooking', 'Java', 'Python']\n",
      "dict_keys(['firstname', 'lastname', 'gender', 'age', 'marital_status', 'skills', 'country', 'city', 'address'])\n",
      "dict_values(['dhiraj', 'bandi', 'male', '24', 'single', ['cooking', 'Java', 'Python'], 'United States', 'Overland Park', '132nd street'])\n"
     ]
    }
   ],
   "execution_count": 6
  },
  {
   "metadata": {
    "ExecuteTime": {
     "end_time": "2024-05-20T22:50:21.535016Z",
     "start_time": "2024-05-20T22:50:21.528478Z"
    }
   },
   "cell_type": "code",
   "source": [
    "#Question 3\n",
    "\n",
    "#tuple containing names of my sisters and your brothers\n",
    "sisters = ('shriya', 'Rekha', 'Godha')\n",
    "print(sisters)\n",
    "brothers = ('kanna', 'Ramanuja')\n",
    "print(brothers)\n",
    "\n",
    "#Joining both to form siblings.\n",
    "siblings = sisters + brothers\n",
    "print(siblings)\n",
    "\n",
    "#number of siblings\n",
    "number_of_siblings = len(siblings)\n",
    "print(number_of_siblings)\n",
    "\n",
    "#adding names of my parents and assigning it to family_members=\n",
    "family_members = siblings + ('venkat', 'Lalitha')\n",
    "print(family_members)"
   ],
   "id": "29b1ab88877b1832",
   "outputs": [
    {
     "name": "stdout",
     "output_type": "stream",
     "text": [
      "('shriya', 'Rekha', 'Godha')\n",
      "('kanna', 'Ramanuja')\n",
      "('shriya', 'Rekha', 'Godha', 'kanna', 'Ramanuja')\n",
      "5\n",
      "('shriya', 'Rekha', 'Godha', 'kanna', 'Ramanuja', 'venkat', 'Lalitha')\n"
     ]
    }
   ],
   "execution_count": 7
  },
  {
   "metadata": {
    "ExecuteTime": {
     "end_time": "2024-05-20T23:44:47.096721Z",
     "start_time": "2024-05-20T23:44:47.080379Z"
    }
   },
   "cell_type": "code",
   "source": [
    "#Question 4\n",
    "it_companies = {'Facebook', 'Google', 'Microsoft', 'Apple', 'IBM', 'Oracle', 'Amazon'} \n",
    "A = {19, 22, 24, 20, 25, 26} \n",
    "B = {19, 22, 20, 25, 26, 24, 28, 27} \n",
    "age = [22, 19, 24, 25, 26, 24, 25, 24] \n",
    "\n",
    "#Length of the set it_companies\n",
    "print(len(it_companies))\n",
    "\n",
    "#Adding Twitter to it_companies\n",
    "it_companies.add('Twitter')\n",
    "print(it_companies)\n",
    "\n",
    "#adding multiple IT companies to the set at once\n",
    "it_companies.update(['Wipro', 'Accenture', 'Trainz'])\n",
    "print(it_companies)\n",
    "\n",
    "#Removing one company from the set\n",
    "it_companies.discard('Google')\n",
    "print(it_companies)\n",
    "\n",
    "#The Difference between remove and discard is that, if the element is not found remove will raise a Key error, while discard does nothing, meaning no error is raised.\n",
    "\n",
    "#joining A and B\n",
    "join_set = A.union(B)\n",
    "print(join_set)\n",
    "\n",
    "#Intersection of A and B\n",
    "intersection_set = A.intersection(B)\n",
    "print(intersection_set)\n",
    "\n",
    "#Checking if A is a subset of B\n",
    "check_subset = A.issubset(B)\n",
    "if check_subset is True:\n",
    "    print('A is a subset of B')\n",
    "else:\n",
    "    print('A is not a subset of B')\n",
    "\n",
    "#checking if A and B are disjoint sets\n",
    "check_disjoint = A.isdisjoint(B)\n",
    "if check_disjoint is True:\n",
    "    print('A and b are disjoint sets')\n",
    "else:\n",
    "    print('A and b are not disjoint sets')\n",
    "    \n",
    "#Joining A with B and B with A\n",
    "Join_A_with_B = A.union(B)\n",
    "Join_B_with_A = B.union(A)\n",
    "print(Join_A_with_B)\n",
    "print(Join_B_with_A)\n",
    "#Observation Both are same.\n",
    "\n",
    "#Symmetric difference between A and B\n",
    "symm_diff = A.symmetric_difference(B)\n",
    "print(symm_diff)\n",
    "\n",
    "#deleting the sets\n",
    "del A\n",
    "del B\n",
    "\n",
    "#converting ages to a set and comparing the length of the list and the set\n",
    "\n",
    "age_set = set(age)\n",
    "\n",
    "print(age_set)\n",
    "print(age)\n",
    "\n",
    "len_age = len(age)\n",
    "len_age_set = len(age_set)\n",
    "print(len_age)\n",
    "print(len_age_set)\n",
    "\n",
    "#comparing:\n",
    "if len_age == len_age_set:\n",
    "    print(\"both the ages list and set lengths are equal\")\n",
    "elif len_age > len_age_set:\n",
    "    print(\"length of ages list is greater than length of ages set\")\n",
    "else:\n",
    "    print(\"length of ages set is greater than length of ages list\")"
   ],
   "id": "7e89e77e5bf518df",
   "outputs": [
    {
     "name": "stdout",
     "output_type": "stream",
     "text": [
      "7\n",
      "{'Amazon', 'Facebook', 'Apple', 'Oracle', 'IBM', 'Twitter', 'Microsoft', 'Google'}\n",
      "{'Wipro', 'Trainz', 'Amazon', 'Apple', 'Google', 'Accenture', 'Twitter', 'Facebook', 'Oracle', 'IBM', 'Microsoft'}\n",
      "{'Wipro', 'Trainz', 'Amazon', 'Apple', 'Accenture', 'Twitter', 'Facebook', 'Oracle', 'IBM', 'Microsoft'}\n",
      "{19, 20, 22, 24, 25, 26, 27, 28}\n",
      "{19, 20, 22, 24, 25, 26}\n",
      "A is a subset of B\n",
      "A and b are not disjoint sets\n",
      "{19, 20, 22, 24, 25, 26, 27, 28}\n",
      "{19, 20, 22, 24, 25, 26, 27, 28}\n",
      "{27, 28}\n",
      "{19, 22, 24, 25, 26}\n",
      "[22, 19, 24, 25, 26, 24, 25, 24]\n",
      "8\n",
      "5\n",
      "length of ages list is greater than length of ages set\n"
     ]
    }
   ],
   "execution_count": 9
  },
  {
   "metadata": {
    "ExecuteTime": {
     "end_time": "2024-05-20T23:59:21.632068Z",
     "start_time": "2024-05-20T23:59:18.707964Z"
    }
   },
   "cell_type": "code",
   "source": [
    "import math\n",
    "#Question 5\n",
    "#Given radius of a circle is 30 meters.\n",
    "\n",
    "#Area of the circle\n",
    "_area_of_circle_ = math.pi * 30**2\n",
    "print(_area_of_circle_)\n",
    "\n",
    "#circumference of a circle\n",
    "_circum_of_circle_ = 2 * math.pi * 30\n",
    "print(_circum_of_circle_)\n",
    "\n",
    "#Taking radius as user input and calculating the area\n",
    "Radius = int(input(\"Enter the Radius: \"))\n",
    "Area = math.pi * Radius**2\n",
    "print(Area)"
   ],
   "id": "6bfe1a02856e0fc4",
   "outputs": [
    {
     "name": "stdout",
     "output_type": "stream",
     "text": [
      "2827.4333882308138\n",
      "188.49555921538757\n",
      "24884.55540908475\n"
     ]
    }
   ],
   "execution_count": 11
  },
  {
   "metadata": {
    "ExecuteTime": {
     "end_time": "2024-05-21T00:12:14.492732Z",
     "start_time": "2024-05-21T00:12:14.486487Z"
    }
   },
   "cell_type": "code",
   "source": [
    "#Question 6\n",
    "\n",
    "given_string = \"I am a teacher and I love to inspire and teach people\"\n",
    "\n",
    "split_string = given_string.split()\n",
    "print(split_string)\n",
    "\n",
    "set_string = set(split_string)\n",
    "#As sets contain only unique elements just len of set will give the unique number of words\n",
    "\n",
    "number_of_unq_words = len(set_string)\n",
    "print('number of unique words are: {}'.format(number_of_unq_words))"
   ],
   "id": "cda95ffbd54c6fc7",
   "outputs": [
    {
     "name": "stdout",
     "output_type": "stream",
     "text": [
      "['I', 'am', 'a', 'teacher', 'and', 'I', 'love', 'to', 'inspire', 'and', 'teach', 'people']\n",
      "number of unique words are: 10\n"
     ]
    }
   ],
   "execution_count": 15
  },
  {
   "metadata": {
    "ExecuteTime": {
     "end_time": "2024-05-21T00:14:55.717873Z",
     "start_time": "2024-05-21T00:14:55.698245Z"
    }
   },
   "cell_type": "code",
   "source": [
    "#Question 7\n",
    "#using tab escape sequence\n",
    "print(\"Name\\tAge\\tCountry\\tCity\")\n",
    "print(\"Asabeneh\\t250\\tFinland\\tHelsinki\")"
   ],
   "id": "50aabd784007021b",
   "outputs": [
    {
     "name": "stdout",
     "output_type": "stream",
     "text": [
      "Name\tAge\tCountry\tCity\n",
      "Asabeneh\t250\tFinland\tHelsinki\n"
     ]
    }
   ],
   "execution_count": 19
  },
  {
   "metadata": {
    "ExecuteTime": {
     "end_time": "2024-05-21T00:17:34.765081Z",
     "start_time": "2024-05-21T00:17:34.758178Z"
    }
   },
   "cell_type": "code",
   "source": [
    "#Question 8\n",
    "radius = 10\n",
    "area = 3.14 * radius ** 2\n",
    "# to print given using string formatting\n",
    "print('The area of a circle with radius {0} is {1} meters square.'.format(radius,area))"
   ],
   "id": "731402ab9b9f8c0",
   "outputs": [
    {
     "name": "stdout",
     "output_type": "stream",
     "text": [
      "The area of a circle with radius 10 is 314.0 meters square.\n"
     ]
    }
   ],
   "execution_count": 20
  },
  {
   "metadata": {
    "ExecuteTime": {
     "end_time": "2024-05-21T00:37:38.082943Z",
     "start_time": "2024-05-21T00:37:20.126767Z"
    }
   },
   "cell_type": "code",
   "source": [
    "#Question 9\n",
    "# N number of students\n",
    "N = int(input(\"Enter no. of students\"))\n",
    "weights = []\n",
    "weights_kg = []\n",
    "for i in range(0,N):\n",
    "    x = float(input(\"Enter the weight of student {} in lbs\".format(i+1)))\n",
    "    weights.append(x)\n",
    "print(weights)\n",
    "for a in weights:\n",
    "    weights_kg.append(a*0.453592)\n",
    "print(weights_kg)"
   ],
   "id": "5e5741c479cd70de",
   "outputs": [
    {
     "name": "stdout",
     "output_type": "stream",
     "text": [
      "[23.0, 78.0, 13.0, 65.0]\n",
      "[10.432616, 35.380176, 5.896696, 29.48348]\n"
     ]
    }
   ],
   "execution_count": 24
  },
  {
   "metadata": {},
   "cell_type": "code",
   "outputs": [],
   "execution_count": null,
   "source": "",
   "id": "4f03a44ebcdf76e2"
  }
 ],
 "metadata": {
  "kernelspec": {
   "display_name": "Python 3",
   "language": "python",
   "name": "python3"
  },
  "language_info": {
   "codemirror_mode": {
    "name": "ipython",
    "version": 2
   },
   "file_extension": ".py",
   "mimetype": "text/x-python",
   "name": "python",
   "nbconvert_exporter": "python",
   "pygments_lexer": "ipython2",
   "version": "2.7.6"
  }
 },
 "nbformat": 4,
 "nbformat_minor": 5
}
