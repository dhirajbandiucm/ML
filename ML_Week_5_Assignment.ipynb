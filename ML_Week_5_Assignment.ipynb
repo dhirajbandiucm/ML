{
  "nbformat": 4,
  "nbformat_minor": 0,
  "metadata": {
    "colab": {
      "provenance": []
    },
    "kernelspec": {
      "name": "python3",
      "display_name": "Python 3"
    },
    "language_info": {
      "name": "python"
    }
  },
  "cells": [
    {
      "cell_type": "code",
      "execution_count": null,
      "metadata": {
        "colab": {
          "base_uri": "https://localhost:8080/"
        },
        "id": "fGoIKM2sDcXb",
        "outputId": "da4332e0-db97-4310-e566-ff774326468a"
      },
      "outputs": [
        {
          "output_type": "stream",
          "name": "stdout",
          "text": [
            "Drive already mounted at /content/drive; to attempt to forcibly remount, call drive.mount(\"/content/drive\", force_remount=True).\n",
            "     Duration  Pulse  Maxpulse  Calories\n",
            "0          60    110       130     409.1\n",
            "1          60    117       145     479.0\n",
            "2          60    103       135     340.0\n",
            "3          45    109       175     282.4\n",
            "4          45    117       148     406.0\n",
            "..        ...    ...       ...       ...\n",
            "164        60    105       140     290.8\n",
            "165        60    110       145     300.0\n",
            "166        60    115       145     310.2\n",
            "167        75    120       150     320.4\n",
            "168        75    125       150     330.4\n",
            "\n",
            "[169 rows x 4 columns]\n"
          ]
        }
      ],
      "source": [
        "#Dhiraj Bandi, 700760856, ML Assignment\n",
        "import pandas as pd\n",
        "\n",
        "# Mounting my google drive in order to get the data.csv file that I uploaded in my drive\n",
        "from google.colab import drive\n",
        "drive.mount('/content/drive')\n",
        "\n",
        "# Question 1. Read the provided CSV file ‘data.csv’\n",
        "df = pd.read_csv('/content/drive/MyDrive/Colab Notebooks/data.csv')\n",
        "print(df)"
      ]
    },
    {
      "cell_type": "code",
      "source": [
        "# Question 2. Show the basic statistical description about the data\n",
        "# Using pandas method describe to do the same\n",
        "print(\"statistical description:\")\n",
        "print(df.describe())\n",
        "#also finding the dtypes\n",
        "print(df.dtypes)"
      ],
      "metadata": {
        "colab": {
          "base_uri": "https://localhost:8080/"
        },
        "id": "d5qQwh71JlUJ",
        "outputId": "c2237aea-87fa-44db-d18d-36b6ba216a9b"
      },
      "execution_count": null,
      "outputs": [
        {
          "output_type": "stream",
          "name": "stdout",
          "text": [
            "statistical description:\n",
            "         Duration       Pulse    Maxpulse     Calories\n",
            "count  169.000000  169.000000  169.000000   164.000000\n",
            "mean    63.846154  107.461538  134.047337   375.790244\n",
            "std     42.299949   14.510259   16.450434   266.379919\n",
            "min     15.000000   80.000000  100.000000    50.300000\n",
            "25%     45.000000  100.000000  124.000000   250.925000\n",
            "50%     60.000000  105.000000  131.000000   318.600000\n",
            "75%     60.000000  111.000000  141.000000   387.600000\n",
            "max    300.000000  159.000000  184.000000  1860.400000\n",
            "Duration      int64\n",
            "Pulse         int64\n",
            "Maxpulse      int64\n",
            "Calories    float64\n",
            "dtype: object\n"
          ]
        }
      ]
    },
    {
      "cell_type": "code",
      "source": [
        "# Question 3. Checking if the data has null values\n",
        "print(\"Checking for null values:\")\n",
        "print(df.isnull().sum())\n",
        "# 3a. Replace the null values with the mean\n",
        "df = df.fillna(df.mean())\n",
        "print(\"Data after replacing null values with mean:\")\n",
        "print(df)"
      ],
      "metadata": {
        "colab": {
          "base_uri": "https://localhost:8080/"
        },
        "id": "--OsvyusJwgh",
        "outputId": "8048cb8f-ef9f-443c-e786-e540a9e636bb"
      },
      "execution_count": null,
      "outputs": [
        {
          "output_type": "stream",
          "name": "stdout",
          "text": [
            "Checking for null values:\n",
            "Duration    0\n",
            "Pulse       0\n",
            "Maxpulse    0\n",
            "Calories    5\n",
            "dtype: int64\n",
            "Data after replacing null values with mean:\n",
            "     Duration  Pulse  Maxpulse  Calories\n",
            "0          60    110       130     409.1\n",
            "1          60    117       145     479.0\n",
            "2          60    103       135     340.0\n",
            "3          45    109       175     282.4\n",
            "4          45    117       148     406.0\n",
            "..        ...    ...       ...       ...\n",
            "164        60    105       140     290.8\n",
            "165        60    110       145     300.0\n",
            "166        60    115       145     310.2\n",
            "167        75    120       150     320.4\n",
            "168        75    125       150     330.4\n",
            "\n",
            "[169 rows x 4 columns]\n"
          ]
        }
      ]
    },
    {
      "cell_type": "code",
      "source": [
        "# Question 4. Selecting two columns Pulse and Calories and aggregate the data using: min, max, count, mean\n",
        "aggregated_data = df[['Pulse', 'Calories']].agg(['min', 'max', 'count', 'mean'])\n",
        "print(\"Below is the Aggregated data for 'Pulse' and 'Calories':\")\n",
        "print(aggregated_data)"
      ],
      "metadata": {
        "colab": {
          "base_uri": "https://localhost:8080/"
        },
        "id": "r1WsKiarJ4Rq",
        "outputId": "70e32648-0c57-4c7b-d1a9-9d164d7b80cc"
      },
      "execution_count": null,
      "outputs": [
        {
          "output_type": "stream",
          "name": "stdout",
          "text": [
            "Below is the Aggregated data for 'Pulse' and 'Calories':\n",
            "            Pulse     Calories\n",
            "min     80.000000    50.300000\n",
            "max    159.000000  1860.400000\n",
            "count  169.000000   169.000000\n",
            "mean   107.461538   375.790244\n"
          ]
        }
      ]
    },
    {
      "cell_type": "code",
      "source": [
        "\n",
        "# Question 5. Filter the dataframe to select the rows with calories values between 500 and 1000\n",
        "filter = df[(df['Calories'] >= 500) & (df['Calories'] <= 1000)]\n",
        "print(\"Rows with calories between 500 and 1000:\")\n",
        "print(filter)\n"
      ],
      "metadata": {
        "colab": {
          "base_uri": "https://localhost:8080/"
        },
        "id": "LBHM_vDYJ5qD",
        "outputId": "129abcd3-d673-46d2-ab05-b29bd8a73072"
      },
      "execution_count": null,
      "outputs": [
        {
          "output_type": "stream",
          "name": "stdout",
          "text": [
            "Rows with calories between 500 and 1000:\n",
            "     Duration  Pulse  Maxpulse  Calories\n",
            "51         80    123       146     643.1\n",
            "62        160    109       135     853.0\n",
            "65        180     90       130     800.4\n",
            "66        150    105       135     873.4\n",
            "67        150    107       130     816.0\n",
            "72         90    100       127     700.0\n",
            "73        150     97       127     953.2\n",
            "75         90     98       125     563.2\n",
            "78        120    100       130     500.4\n",
            "83        120    100       130     500.0\n",
            "90        180    101       127     600.1\n",
            "99         90     93       124     604.1\n",
            "101        90     90       110     500.0\n",
            "102        90     90       100     500.0\n",
            "103        90     90       100     500.4\n",
            "106       180     90       120     800.3\n",
            "108        90     90       120     500.3\n"
          ]
        }
      ]
    },
    {
      "cell_type": "code",
      "source": [
        "\n",
        "# Question 6. Filter the dataframe to select the rows with calories values > 500 and pulse < 100\n",
        "filter2 = df[(df['Calories'] > 500) & (df['Pulse'] < 100)]\n",
        "print(\"Rows with calories > 500 and pulse < 100:\")\n",
        "print(filter2)\n"
      ],
      "metadata": {
        "colab": {
          "base_uri": "https://localhost:8080/"
        },
        "id": "6br6fYmKJ6va",
        "outputId": "b59339ff-5b93-42b9-c10b-299b59d0c0b7"
      },
      "execution_count": null,
      "outputs": [
        {
          "output_type": "stream",
          "name": "stdout",
          "text": [
            "Rows with calories > 500 and pulse < 100:\n",
            "     Duration  Pulse  Maxpulse  Calories\n",
            "65        180     90       130     800.4\n",
            "70        150     97       129    1115.0\n",
            "73        150     97       127     953.2\n",
            "75         90     98       125     563.2\n",
            "99         90     93       124     604.1\n",
            "103        90     90       100     500.4\n",
            "106       180     90       120     800.3\n",
            "108        90     90       120     500.3\n"
          ]
        }
      ]
    },
    {
      "cell_type": "code",
      "source": [
        "\n",
        "# Question 7. Creating a new “df_modified” dataframe that contains all the columns from df except for “Maxpulse”\n",
        "df_modified = df.drop('Maxpulse', axis=1)\n",
        "print(\"New dataframe without 'Maxpulse':\")\n",
        "print(df_modified)\n"
      ],
      "metadata": {
        "colab": {
          "base_uri": "https://localhost:8080/"
        },
        "id": "cy2_TZ8DJ7j6",
        "outputId": "726c7304-f432-46f5-e6d5-aa2f9c63baed"
      },
      "execution_count": null,
      "outputs": [
        {
          "output_type": "stream",
          "name": "stdout",
          "text": [
            "New dataframe without 'Maxpulse':\n",
            "     Duration  Pulse  Calories\n",
            "0          60    110     409.1\n",
            "1          60    117     479.0\n",
            "2          60    103     340.0\n",
            "3          45    109     282.4\n",
            "4          45    117     406.0\n",
            "..        ...    ...       ...\n",
            "164        60    105     290.8\n",
            "165        60    110     300.0\n",
            "166        60    115     310.2\n",
            "167        75    120     320.4\n",
            "168        75    125     330.4\n",
            "\n",
            "[169 rows x 3 columns]\n"
          ]
        }
      ]
    },
    {
      "cell_type": "code",
      "source": [
        "# Question 8. Deleting the “Maxpulse” column from the main df dataframe\n",
        "df = df.drop('Maxpulse', axis=1)\n",
        "print(\"Main dataframe after deleting 'Maxpulse':\")\n",
        "print(df)"
      ],
      "metadata": {
        "colab": {
          "base_uri": "https://localhost:8080/"
        },
        "id": "bbYbw_9iJ8PF",
        "outputId": "19f69add-cfed-4239-cc09-310b0e97810f"
      },
      "execution_count": null,
      "outputs": [
        {
          "output_type": "stream",
          "name": "stdout",
          "text": [
            "Main dataframe after deleting 'Maxpulse':\n",
            "     Duration  Pulse  Calories\n",
            "0          60    110     409.1\n",
            "1          60    117     479.0\n",
            "2          60    103     340.0\n",
            "3          45    109     282.4\n",
            "4          45    117     406.0\n",
            "..        ...    ...       ...\n",
            "164        60    105     290.8\n",
            "165        60    110     300.0\n",
            "166        60    115     310.2\n",
            "167        75    120     320.4\n",
            "168        75    125     330.4\n",
            "\n",
            "[169 rows x 3 columns]\n"
          ]
        }
      ]
    },
    {
      "cell_type": "code",
      "source": [
        "# Question 9. Converting the datatype of Calories column to int datatype\n",
        "df['Calories'] = df['Calories'].astype(int)\n",
        "print(\"Dataframe with 'Calories' column converted to int:\")\n",
        "print(df)"
      ],
      "metadata": {
        "colab": {
          "base_uri": "https://localhost:8080/"
        },
        "id": "MT6dNtp6J9AF",
        "outputId": "77f079bc-9173-4ed4-8c29-008ba9a0ae88"
      },
      "execution_count": null,
      "outputs": [
        {
          "output_type": "stream",
          "name": "stdout",
          "text": [
            "Dataframe with 'Calories' column converted to int:\n",
            "     Duration  Pulse  Calories\n",
            "0          60    110       409\n",
            "1          60    117       479\n",
            "2          60    103       340\n",
            "3          45    109       282\n",
            "4          45    117       406\n",
            "..        ...    ...       ...\n",
            "164        60    105       290\n",
            "165        60    110       300\n",
            "166        60    115       310\n",
            "167        75    120       320\n",
            "168        75    125       330\n",
            "\n",
            "[169 rows x 3 columns]\n"
          ]
        }
      ]
    }
  ]
}