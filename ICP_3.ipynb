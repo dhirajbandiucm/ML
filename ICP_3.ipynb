{
 "nbformat": 4,
 "nbformat_minor": 0,
 "metadata": {
  "colab": {
   "provenance": []
  },
  "kernelspec": {
   "name": "python3",
   "display_name": "Python 3"
  },
  "language_info": {
   "name": "python"
  }
 },
 "cells": [
  {
   "cell_type": "code",
   "execution_count": 37,
   "metadata": {
    "colab": {
     "base_uri": "https://localhost:8080/"
    },
    "id": "UAmSOvQ6z-oJ",
    "outputId": "778b558b-daa4-4fe7-bd3b-4cac52af4028"
   },
   "outputs": [
    {
     "output_type": "stream",
     "name": "stdout",
     "text": [
      "Random vector: [19  3 20 10  3 19 10 15  6 20  4  8  7 19  5]\n",
      "Reshaped array:\n",
      " [[19  3 20 10  3]\n",
      " [19 10 15  6 20]\n",
      " [ 4  8  7 19  5]]\n",
      "Array shape: (3, 5)\n",
      "Modified array:\n",
      " [[19  3  0 10  3]\n",
      " [19 10 15  6  0]\n",
      " [ 4  8  7  0  5]]\n"
     ]
    }
   ],
   "source": [
    "# ICP - 3, DHiraj Bandi, 700760856\n",
    "#Question a\n",
    "import numpy as np\n",
    "\n",
    "'''firstly I am going to Create a random vector of size 15 with integers in the range 1 to 20\n",
    "with the numpy random function'''\n",
    "random_vector = np.random.randint(1, 21, size=15)\n",
    "print(\"Random vector:\", random_vector)\n",
    "\n",
    "'''Now I am going to reshape the array to 3 by 5'''\n",
    "reshaped_array = random_vector.reshape(3, 5)\n",
    "print(\"Reshaped array:\\n\", reshaped_array)\n",
    "\n",
    "'''Then I am going to print the shape of the array'''\n",
    "print(\"Array shape:\", reshaped_array.shape)\n",
    "\n",
    "'''Now I am going to replace the maximum value in each row with 0'''\n",
    "for i in range(reshaped_array.shape[0]):\n",
    "    max_index = np.argmax(reshaped_array[i])\n",
    "    reshaped_array[i, max_index] = 0\n",
    "\n",
    "print(\"Modified array:\\n\", reshaped_array)\n"
   ]
  },
  {
   "cell_type": "code",
   "source": [
    "import numpy as np\n",
    "''' Now in this question we were given to Create a 2-dimensional array of size 4x3\n",
    " with 4-byte integer elements'''\n",
    "array = np.random.randint(1, 100, size=(4, 3), dtype=np.int32)\n",
    "\n",
    "'''now I am going to print the shape of the array'''\n",
    "print(\"Array shape:\", array.shape)\n",
    "\n",
    "'''now I am going to print the type of the array'''\n",
    "print(\"Array type:\", type(array))\n",
    "\n",
    "'''lastly I am going to print the data type of the array'''\n",
    "print(\"Array data type:\", array.dtype)\n"
   ],
   "metadata": {
    "colab": {
     "base_uri": "https://localhost:8080/"
    },
    "id": "jeoylNFP2sJU",
    "outputId": "ca9c0290-8882-492d-e1a2-4cd51325068b"
   },
   "execution_count": 39,
   "outputs": [
    {
     "output_type": "stream",
     "name": "stdout",
     "text": [
      "Array shape: (4, 3)\n",
      "Array type: <class 'numpy.ndarray'>\n",
      "Array data type: int32\n"
     ]
    }
   ]
  },
  {
   "cell_type": "code",
   "source": [
    "import numpy as np\n",
    "\n",
    "#Question b\n",
    "''' firstly I am going to Create the given array'''\n",
    "matrix = np.array([[3, -2], [1, 0]])\n",
    "\n",
    "''' then I am going to compute the eigenvalues and right eigenvectors of the matrix\n",
    "using the numpy.linalg.eig function'''\n",
    "eigenvalues, eigenvectors = np.linalg.eig(matrix)\n",
    "\n",
    "'''lastly Im just going to print them both '''\n",
    "print(\"Eigenvalues:\", eigenvalues)\n",
    "print(\"Right eigenvectors:\\n\", eigenvectors)\n"
   ],
   "metadata": {
    "colab": {
     "base_uri": "https://localhost:8080/"
    },
    "id": "nncfMhDq2ziy",
    "outputId": "fc078e38-07a4-4adf-9c3b-70754b1a2440"
   },
   "execution_count": 38,
   "outputs": [
    {
     "output_type": "stream",
     "name": "stdout",
     "text": [
      "Eigenvalues: [2. 1.]\n",
      "Right eigenvectors:\n",
      " [[0.89442719 0.70710678]\n",
      " [0.4472136  0.70710678]]\n"
     ]
    }
   ]
  },
  {
   "cell_type": "code",
   "source": [
    "#Question c\n",
    "import numpy as np\n",
    "\n",
    "'''firstly creating the given array'''\n",
    "array = np.array([[0, 1, 2], [3, 4, 5]])\n",
    "\n",
    "'''now I am going to extract the diagonal elements of the array'''\n",
    "diagonal_elements = np.diag(array)\n",
    "\n",
    "'''lastly I am going to compute the sum of the diagonal elements'''\n",
    "sum_of_diagonal = np.sum(diagonal_elements)\n",
    "\n",
    "'''then I am going to print them both'''\n",
    "print(\"Diagonal elements:\", diagonal_elements)\n",
    "print(\"Sum of diagonal elements:\", sum_of_diagonal)\n"
   ],
   "metadata": {
    "colab": {
     "base_uri": "https://localhost:8080/"
    },
    "id": "xJjAbGDj5JHi",
    "outputId": "7d98423d-ef1b-40d9-c737-57052b053b06"
   },
   "execution_count": 40,
   "outputs": [
    {
     "output_type": "stream",
     "name": "stdout",
     "text": [
      "Diagonal elements: [0 4]\n",
      "Sum of diagonal elements: 4\n"
     ]
    }
   ]
  },
  {
   "cell_type": "code",
   "source": [
    "#Question d\n",
    "import numpy as np\n",
    "\n",
    "'''firstly I am going to Create the given array'''\n",
    "original_array = np.array([[1, 2], [3, 4], [5, 6]])\n",
    "\n",
    "'''now lets see the original array'''\n",
    "print(\"Original array (3x2):\")\n",
    "print(original_array)\n",
    "\n",
    "'''then I am going to reshape the array to 2x3'''\n",
    "reshaped_array = original_array.reshape(2, 3)\n",
    "\n",
    "'''lastly I am going to print the reshaped array'''\n",
    "print(\"\\nReshaped array (2x3):\")\n",
    "print(reshaped_array)\n"
   ],
   "metadata": {
    "colab": {
     "base_uri": "https://localhost:8080/"
    },
    "id": "cr2Muh8m6AdC",
    "outputId": "22c6f7cb-941e-4ad9-ea00-10f701152ae6"
   },
   "execution_count": 41,
   "outputs": [
    {
     "output_type": "stream",
     "name": "stdout",
     "text": [
      "Original array (3x2):\n",
      "[[1 2]\n",
      " [3 4]\n",
      " [5 6]]\n",
      "\n",
      "Reshaped array (2x3):\n",
      "[[1 2 3]\n",
      " [4 5 6]]\n"
     ]
    }
   ]
  }
 ]
}
