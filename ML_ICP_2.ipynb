{
 "cells": [
  {
   "cell_type": "code",
   "id": "initial_id",
   "metadata": {
    "collapsed": true,
    "ExecuteTime": {
     "end_time": "2024-06-02T22:19:11.702989Z",
     "start_time": "2024-06-02T22:19:11.692621Z"
    }
   },
   "source": [
    "#Machine Learning (ICP # 2)\n",
    "\n",
    "#Question 1\n",
    "#just using a logic to implement the given pattern\n",
    "a = 1\n",
    "b=0\n",
    "for a in range(10):\n",
    "    b=0\n",
    "    for b in range(a if a<6 else 10-a):\n",
    "        print('* ', end = '')\n",
    "        b+=1\n",
    "    print('')\n",
    "    a+=1\n",
    "    \n",
    "        "
   ],
   "outputs": [
    {
     "name": "stdout",
     "output_type": "stream",
     "text": [
      "\n",
      "* \n",
      "* * \n",
      "* * * \n",
      "* * * * \n",
      "* * * * * \n",
      "* * * * \n",
      "* * * \n",
      "* * \n",
      "* \n"
     ]
    }
   ],
   "execution_count": 9
  },
  {
   "metadata": {
    "ExecuteTime": {
     "end_time": "2024-06-02T22:24:10.516830Z",
     "start_time": "2024-06-02T22:24:10.506025Z"
    }
   },
   "cell_type": "code",
   "source": [
    "#Question 2\n",
    "#using modulus operator and loop to output elements at odd indexes\n",
    "my_list = [10,20,30,40,50,60,70,80,90,100]\n",
    "a = 0\n",
    "for a in range(len(my_list)):\n",
    "    if a%2!=0:\n",
    "        print(my_list[a])\n",
    "    a+=1"
   ],
   "id": "bf69016d60a21250",
   "outputs": [
    {
     "name": "stdout",
     "output_type": "stream",
     "text": [
      "20\n",
      "40\n",
      "60\n",
      "80\n",
      "100\n"
     ]
    }
   ],
   "execution_count": 10
  },
  {
   "metadata": {
    "ExecuteTime": {
     "end_time": "2024-06-02T22:32:23.893284Z",
     "start_time": "2024-06-02T22:32:23.883822Z"
    }
   },
   "cell_type": "code",
   "source": [
    "#Question 3\n",
    "# appending types of the elements of the given list to a new list\n",
    "#Given list x\n",
    "x = [23,'Python', 23.98]\n",
    "type_lt = []\n",
    "for i in x:\n",
    "    type_lt.append(type(i))\n",
    "print(x)\n",
    "print(type_lt)\n"
   ],
   "id": "fe2a75b3b43afc63",
   "outputs": [
    {
     "name": "stdout",
     "output_type": "stream",
     "text": [
      "[23, 'Python', 23.98]\n",
      "[<class 'int'>, <class 'str'>, <class 'float'>]\n"
     ]
    }
   ],
   "execution_count": 11
  },
  {
   "metadata": {
    "ExecuteTime": {
     "end_time": "2024-06-02T22:42:54.502446Z",
     "start_time": "2024-06-02T22:42:54.492289Z"
    }
   },
   "cell_type": "code",
   "source": [
    "#Question 4\n",
    "# well Im gonna use the concept that sets contain only unique elements.\n",
    "def unique_list(list_i):\n",
    "    list_set = set(list_i)\n",
    "    return list(list_set)\n",
    "\n",
    "sample_list = [1,2,3,3,3,3,4,5]\n",
    "Unique_list = unique_list(sample_list)\n",
    "\n",
    "print(sample_list)\n",
    "print(Unique_list)"
   ],
   "id": "319d0cd5a700ba5f",
   "outputs": [
    {
     "name": "stdout",
     "output_type": "stream",
     "text": [
      "[1, 2, 3, 3, 3, 3, 4, 5]\n",
      "[1, 2, 3, 4, 5]\n"
     ]
    }
   ],
   "execution_count": 12
  },
  {
   "metadata": {
    "ExecuteTime": {
     "end_time": "2024-06-03T00:06:54.553034Z",
     "start_time": "2024-06-03T00:06:54.542397Z"
    }
   },
   "cell_type": "code",
   "source": [
    "#Question 5\n",
    "# Ill use the is_upper and is_lower methods to solve this\n",
    "def cal_upper_lower(str):\n",
    "    i,j = 0,0\n",
    "    for a in str:\n",
    "        if a.islower():\n",
    "            i+=1\n",
    "        elif a.isupper():\n",
    "            j+=1\n",
    "    print(\"No. of Upper-case characters: {0}\".format(j))\n",
    "    print(\"No. of Lower-case characters: {0}\".format(i))\n",
    "    \n",
    "given_string = \"The quick Brow Fox\"\n",
    "cal_upper_lower(given_string)"
   ],
   "id": "bce9abdac9b0bc3b",
   "outputs": [
    {
     "name": "stdout",
     "output_type": "stream",
     "text": [
      "No. of Upper-case characters: 3\n",
      "No. of Lower-case characters: 12\n"
     ]
    }
   ],
   "execution_count": 20
  },
  {
   "metadata": {},
   "cell_type": "code",
   "outputs": [],
   "execution_count": null,
   "source": "",
   "id": "8e81bddb676ec7c4"
  }
 ],
 "metadata": {
  "kernelspec": {
   "display_name": "Python 3",
   "language": "python",
   "name": "python3"
  },
  "language_info": {
   "codemirror_mode": {
    "name": "ipython",
    "version": 2
   },
   "file_extension": ".py",
   "mimetype": "text/x-python",
   "name": "python",
   "nbconvert_exporter": "python",
   "pygments_lexer": "ipython2",
   "version": "2.7.6"
  }
 },
 "nbformat": 4,
 "nbformat_minor": 5
}
